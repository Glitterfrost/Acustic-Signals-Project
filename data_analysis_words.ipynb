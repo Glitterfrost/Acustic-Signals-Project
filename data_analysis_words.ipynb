{
 "cells": [
  {
   "cell_type": "code",
   "execution_count": 34,
   "metadata": {},
   "outputs": [],
   "source": [
    "import numpy as np\n",
    "import matplotlib.pyplot as plt\n",
    "import librosa\n",
    "from sklearn.model_selection import train_test_split\n",
    "from sklearn.svm import SVC\n",
    "from sklearn.preprocessing import StandardScaler\n",
    "from sklearn.metrics import accuracy_score, classification_report\n",
    "from sklearn.metrics import confusion_matrix\n",
    "from sklearn.ensemble import RandomForestClassifier\n",
    "from sklearn.neural_network import MLPClassifier\n",
    "import seaborn as sns\n",
    "from sklearn.feature_selection import SelectKBest,f_classif\n",
    "import matplotlib.pyplot as plt"
   ]
  },
  {
   "cell_type": "code",
   "execution_count": 35,
   "metadata": {},
   "outputs": [],
   "source": [
    "labels = [\"ACC\",\"PREC\",\"REC\",\"F1\"]\n",
    "def  create_bar_plot(data, title):\n",
    "    plt.bar(labels, data)\n",
    "    plt.title(title)\n",
    "    plt.xlabel('metric')\n",
    "    plt.ylabel('values')\n",
    "    plt.show()"
   ]
  },
  {
   "cell_type": "markdown",
   "metadata": {},
   "source": [
    "# BAR PLOTY dla każdego klasyfikatora"
   ]
  },
  {
   "cell_type": "markdown",
   "metadata": {},
   "source": [
    "## mfcc"
   ]
  },
  {
   "cell_type": "markdown",
   "metadata": {},
   "source": []
  },
  {
   "cell_type": "code",
   "execution_count": null,
   "metadata": {},
   "outputs": [],
   "source": [
    "mfcc_svm = [0.86, 0.87,0.87,0.87]\n",
    "mfcc_rm = [0.82,0.84,0.83,0.82]\n",
    "mfcc_mlp = [0.85,0.86,0.86,0.85]\n",
    "\n",
    "create_bar_plot(mfcc_svm, \"MFCC-SVM\")\n",
    "create_bar_plot(mfcc_rm, \"MFCC-Random Forest\")\n",
    "create_bar_plot(mfcc_mlp, \"MFCC-MLP\")"
   ]
  },
  {
   "cell_type": "markdown",
   "metadata": {},
   "source": [
    "## spectral"
   ]
  },
  {
   "cell_type": "code",
   "execution_count": null,
   "metadata": {},
   "outputs": [],
   "source": [
    "spec_svm = [0.78,0.81, 0.79, 0.79]\n",
    "spec_rm = [0.816, 0.84,0.82,0.82]\n",
    "spec_mlp = [0.8, 0.84,0.81,0.8]\n",
    "create_bar_plot(spec_svm, \"Spectral-SVM\")\n",
    "create_bar_plot(spec_rm,  \"Spectral-Random Forest\")\n",
    "create_bar_plot(spec_mlp, \"Spectral-MLP\")"
   ]
  },
  {
   "cell_type": "markdown",
   "metadata": {},
   "source": [
    "## zero crossing"
   ]
  },
  {
   "cell_type": "code",
   "execution_count": null,
   "metadata": {},
   "outputs": [],
   "source": [
    "zcr_svm = [0.3,0.45,0.30,0.29]\n",
    "zcr_rm = [0.35, 0.34,0.35,0.33]\n",
    "zcr_mlp = [0.33, 0.34,0.33,  0.33 ]\n",
    "create_bar_plot(zcr_svm, \"Zero Crossing-SVM\")\n",
    "create_bar_plot(zcr_rm,  \"Zero Crossing-Random Forest\")\n",
    "create_bar_plot(zcr_mlp, \"Zero Crossing-MLP\")"
   ]
  },
  {
   "cell_type": "markdown",
   "metadata": {},
   "source": [
    "## chroma"
   ]
  },
  {
   "cell_type": "code",
   "execution_count": null,
   "metadata": {},
   "outputs": [],
   "source": [
    "chroma_svm = [0.783, 0.78, 0.78,0.78 ]\n",
    "chroma_rm = [0.833, 0.84,0.83,0.83]\n",
    "chroma_mlp = [0.8, 0.8,0.8,0.8]\n",
    "create_bar_plot(chroma_svm, \"Chroma-SVM\")\n",
    "create_bar_plot(chroma_rm,  \"Chroma-Random Forest\")\n",
    "create_bar_plot(chroma_mlp, \"Chroma-MLP\")"
   ]
  },
  {
   "cell_type": "markdown",
   "metadata": {},
   "source": [
    "# SZUM"
   ]
  },
  {
   "cell_type": "code",
   "execution_count": 40,
   "metadata": {},
   "outputs": [],
   "source": [
    "labels = [\"10%\",\"20%\",\"30%\",\"40%\",\"50%\", \"60%\", \"70%\", \"80%\", \"90%\"]\n",
    "def  create_bar_plot(data, title):\n",
    "    plt.bar(labels, data)\n",
    "    plt.title(title)\n",
    "    plt.xlabel('NOISE LEVEL')\n",
    "    plt.ylabel('ACCURACY')\n",
    "    plt.show()"
   ]
  },
  {
   "cell_type": "markdown",
   "metadata": {},
   "source": [
    "## MFCC"
   ]
  },
  {
   "cell_type": "code",
   "execution_count": null,
   "metadata": {},
   "outputs": [],
   "source": [
    "SVM = [0.2, 0.2,0.2,0.2,0.2, 0.2, 0.2, 0.2, 0.2]\n",
    "RANDOM_FOREST  = [0.85, 0.85,0.783, 0.75,0.75, 0.666, 0.583,  0.6,  0.516]\n",
    "MLP   = [0.783, 0.817,0.25, 0.783,0.133, 0.533, 0.283, 0.2, 0.5]\n",
    "\n",
    "create_bar_plot(SVM,           \"MFCC - SVM (noisy)\")\n",
    "create_bar_plot(RANDOM_FOREST, \"MFCC - Random forest (noisy)\")\n",
    "create_bar_plot(MLP,           \"MFCC - MLP (noisy)\")"
   ]
  },
  {
   "cell_type": "markdown",
   "metadata": {},
   "source": [
    "## SPECTRAL"
   ]
  },
  {
   "cell_type": "code",
   "execution_count": null,
   "metadata": {},
   "outputs": [],
   "source": [
    "SVM                = [0.417,0.417,0.4, 0.383, 0.283, 0.25, 0.183, 0.2, 0.2]\n",
    "RANDOM_FOREST      = [0.5, 0.5, 0.466, 0.366,  0.416, 0.4, 0.4, 0.4, 0.566]\n",
    "MLP                = [0.3170, 0.216,0.25,0.283,  0.216,  0.3, 0.266,  0.166, 0.38]\n",
    "create_bar_plot(SVM,           \"SPECTRAL - SVM (noisy)\")\n",
    "create_bar_plot(RANDOM_FOREST, \"SPECTRAL - Random Forest (noisy)\")\n",
    "create_bar_plot(MLP,           \"SPECTRAL - MLP (noisy)\")"
   ]
  },
  {
   "cell_type": "markdown",
   "metadata": {},
   "source": [
    "# ZERO CROSSING"
   ]
  },
  {
   "cell_type": "code",
   "execution_count": null,
   "metadata": {},
   "outputs": [],
   "source": [
    "SVM                = [0.367,0.367, 0.366,0.316, 0.35, 0.333, 0.4, 0.4, 0.433]\n",
    "RANDOM_FOREST      = [0.317,0.367,0.366,0.35, 0.283, 0.283, 0.383, 0.4, 0.466]\n",
    "MLP                = [0.2,0.2,0.2,0.2, 0.2, 0.2, 0.2, 0.2, 0.2]\n",
    "create_bar_plot(SVM,           \"ZERO CROSSING - SVM (noisy)\")\n",
    "create_bar_plot(RANDOM_FOREST, \"ZERO CROSSING - Random Forest (noisy)\")\n",
    "create_bar_plot(MLP,           \"ZERO CROSSING - MLP (noisy)\")"
   ]
  },
  {
   "cell_type": "markdown",
   "metadata": {},
   "source": [
    "## CHROMA"
   ]
  },
  {
   "cell_type": "code",
   "execution_count": null,
   "metadata": {},
   "outputs": [],
   "source": [
    "SVM                = [0.65,0.666,0.733,0.766, 0.733, 0.45, 0.45, 0.366, 0.35]\n",
    "RANDOM_FOREST      = [0.65,0.683,0.7,0.75, 0.716, 0.716, 0.65, 0.516, 0.483]\n",
    "MLP                = [0.65,0.716,0.73,0.75, 0.783, 0.75, 0.516, 0.65,0.483]\n",
    "create_bar_plot(SVM,           \"CHROMA - SVM (noisy)\")\n",
    "create_bar_plot(RANDOM_FOREST, \"CHROMA - Random Forest (noisy)\")\n",
    "create_bar_plot(MLP,           \"CHROMA - MLP (noisy)\")"
   ]
  }
 ],
 "metadata": {
  "kernelspec": {
   "display_name": "Python 3",
   "language": "python",
   "name": "python3"
  },
  "language_info": {
   "codemirror_mode": {
    "name": "ipython",
    "version": 3
   },
   "file_extension": ".py",
   "mimetype": "text/x-python",
   "name": "python",
   "nbconvert_exporter": "python",
   "pygments_lexer": "ipython3",
   "version": "3.12.7"
  }
 },
 "nbformat": 4,
 "nbformat_minor": 2
}
