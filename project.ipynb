{
 "cells": [
  {
   "cell_type": "code",
   "execution_count": 78,
   "metadata": {},
   "outputs": [],
   "source": [
    "import numpy as np\n",
    "import matplotlib.pyplot as plt\n",
    "import librosa\n",
    "from sklearn.model_selection import train_test_split\n",
    "from sklearn.svm import SVC\n",
    "from sklearn.preprocessing import StandardScaler\n",
    "from sklearn.metrics import accuracy_score, classification_report\n",
    "from sklearn.metrics import confusion_matrix\n",
    "from sklearn.ensemble import RandomForestClassifier\n",
    "from sklearn.neural_network import MLPClassifier\n",
    "import seaborn as sns"
   ]
  },
  {
   "cell_type": "markdown",
   "metadata": {},
   "source": [
    "# LOAD DATA"
   ]
  },
  {
   "cell_type": "code",
   "execution_count": 41,
   "metadata": {},
   "outputs": [],
   "source": [
    "DATA_PATH = \"BazaCut/\"\n",
    "FILIP_PATH = DATA_PATH + \"wordsFilip/\"\n",
    "SEB_PATH = DATA_PATH + \"wordsSebastian/\"\n",
    "MARCIN_PATH = DATA_PATH + \"wordsMarcin/\"\n",
    "no_of_words = 30\n",
    "prefixes = [\"F\",\"S\",\"M\"]\n",
    "Fs = 48000\n",
    "words_filip = [i for i in range(no_of_words)]\n",
    "words_seb = [i for i in range(no_of_words)]\n",
    "words_marcin = [i for i in range(no_of_words)]\n",
    "\n",
    "for i in range(1, no_of_words+1):\n",
    "    file_name = \"word\"+str(i)+\"_F\"+\".wav\"\n",
    "    y, sr = librosa.load(FILIP_PATH+file_name, sr=None)\n",
    "    words_filip[i-1] = y\n",
    "\n",
    "for i in range(1, no_of_words+1):\n",
    "    file_name = \"word\"+str(i)+\"_S\"+\".wav\"\n",
    "    y, sr = librosa.load(SEB_PATH+file_name, sr=None)\n",
    "    words_seb[i-1] = y\n",
    "\n",
    "for i in range(1, no_of_words+1):\n",
    "    file_name = \"word\"+str(i)+\"_M\"+\".wav\"\n",
    "    y, sr = librosa.load(MARCIN_PATH+file_name, sr=None)\n",
    "    words_marcin[i-1] = y\n"
   ]
  },
  {
   "cell_type": "markdown",
   "metadata": {},
   "source": [
    "# MFCC (Mel Frequency Cepstral Coefficients) and Deltta MFCC"
   ]
  },
  {
   "cell_type": "code",
   "execution_count": 42,
   "metadata": {},
   "outputs": [],
   "source": [
    "# Ekstrakcja MFCC (np. 13 współczynników)\n",
    "mfcc = librosa.feature.mfcc(y=y, sr=sr, n_mfcc=13)\n",
    "\n",
    "# Dodatkowe cechy: delty MFCC\n",
    "delta_mfcc = librosa.feature.delta(mfcc)\n",
    "delta2_mfcc = librosa.feature.delta(mfcc, order=2)\n",
    "\n",
    "# Połączenie cech w jedną macierz\n",
    "features = np.concatenate([mfcc, delta_mfcc, delta2_mfcc], axis=0)\n",
    "\n",
    "mfcc_features_no = 13\n",
    "#Problem: w wyniku mfcc mamy macierz (13,x). Ilość kolumn dla każdego słowa jest inna. Nie da się \n",
    "#dać do numpy array\n",
    "mfcc_filip = [i for i in range(no_of_words)]\n",
    "mfcc_delta_filip = [i for i in range(no_of_words)]\n",
    "mfcc_delta2_filip = [i for i in range(no_of_words)]\n",
    "for i, word in enumerate(words_filip):\n",
    "    mfcc_filip[i] = librosa.feature.mfcc(y=word, sr=Fs, n_mfcc=mfcc_features_no)\n",
    "    mfcc_delta_filip[i] = librosa.feature.delta(mfcc_filip[i])\n",
    "    mfcc_delta2_filip[i] =  librosa.feature.delta(mfcc_filip[i], order=2)\n",
    "\n",
    "\n",
    "mfcc_seb = [i for i in range(no_of_words)]\n",
    "mfcc_delta_seb = [i for i in range(no_of_words)]\n",
    "mfcc_delta2_seb = [i for i in range(no_of_words)]\n",
    "for i, word in enumerate(words_seb):\n",
    "    mfcc_seb[i] = librosa.feature.mfcc(y=word, sr=Fs, n_mfcc=mfcc_features_no)\n",
    "    mfcc_delta_seb[i] = librosa.feature.delta(mfcc_seb[i])\n",
    "    mfcc_delta2_seb[i] =  librosa.feature.delta(mfcc_seb[i], order=2)\n",
    "\n",
    "mfcc_marcin = [i for i in range(no_of_words)]\n",
    "mfcc_delta_marcin = [i for i in range(no_of_words)]\n",
    "mfcc_delta2_marcin = [i for i in range(no_of_words)]\n",
    "for i, word in enumerate(words_marcin):\n",
    "    mfcc_marcin[i] = librosa.feature.mfcc(y=word, sr=Fs, n_mfcc=mfcc_features_no)\n",
    "    mfcc_delta_marcin[i] = librosa.feature.delta(mfcc_marcin[i])\n",
    "    mfcc_delta2_marcin[i] =  librosa.feature.delta(mfcc_marcin[i], order=2)"
   ]
  },
  {
   "cell_type": "markdown",
   "metadata": {},
   "source": [
    "# Using SVM"
   ]
  },
  {
   "cell_type": "code",
   "execution_count": 43,
   "metadata": {},
   "outputs": [],
   "source": [
    "mfcc_filip_mean = np.zeros((no_of_words,mfcc_features_no))\n",
    "mfcc_seb_mean = np.zeros((no_of_words,mfcc_features_no))\n",
    "mfcc_marcin_mean= np.zeros((no_of_words,mfcc_features_no))\n",
    "\n",
    "for i in range(no_of_words):\n",
    "    mfcc_filip_mean[i,0:mfcc_features_no] = np.mean(mfcc_filip[i],axis=1)\n",
    "    mfcc_seb_mean[i,0:mfcc_features_no] = np.mean(mfcc_seb[i],axis=1)\n",
    "    mfcc_marcin_mean[i,0:mfcc_features_no] = np.mean(mfcc_marcin[i],axis=1)\n",
    "\n",
    "feature_vector = np.concatenate((mfcc_filip_mean, mfcc_seb_mean,mfcc_marcin_mean))\n",
    "labelsF = np.zeros(mfcc_filip_mean.shape[0])\n",
    "labelsS = np.zeros(mfcc_filip_mean.shape[0])+1\n",
    "labelsM = np.zeros(mfcc_filip_mean.shape[0])+2\n",
    "labels = np.concatenate((labelsF, labelsS,labelsM))"
   ]
  },
  {
   "cell_type": "code",
   "execution_count": null,
   "metadata": {},
   "outputs": [],
   "source": [
    "X_train, X_test, y_train, y_test = train_test_split(feature_vector, labels, test_size=0.6, random_state=42)\n",
    "# Normalize the features\n",
    "scaler = StandardScaler()\n",
    "X_train = scaler.fit_transform(X_train)\n",
    "X_test = scaler.transform(X_test)\n",
    "\n",
    "# Train the SVM\n",
    "svm = SVC(kernel='linear', C=1.0, random_state=42)\n",
    "svm.fit(X_train, y_train)\n",
    "\n",
    "y_pred = svm.predict(X_test)\n",
    "\n",
    "# Accuracy\n",
    "print(\"Accuracy:\", accuracy_score(y_test, y_pred))\n",
    "\n",
    "# Detailed classification report\n",
    "print(classification_report(y_test, y_pred))"
   ]
  },
  {
   "cell_type": "code",
   "execution_count": null,
   "metadata": {},
   "outputs": [],
   "source": [
    "# Create a confusion matrix\n",
    "cm = confusion_matrix(y_test, y_pred)\n",
    "ticks = [\"Filip\",\"Sebastian\",\"Marcin\"]\n",
    "# Plot the confusion matrix\n",
    "sns.heatmap(cm, annot=True,fmt='d', cmap='YlGnBu',xticklabels=ticks, yticklabels=ticks )\n",
    "plt.ylabel('Prediction',fontsize=12)\n",
    "plt.xlabel('Actual',fontsize=12)\n",
    "plt.title('Confusion Matrix',fontsize=16)\n",
    "plt.show()"
   ]
  },
  {
   "cell_type": "markdown",
   "metadata": {},
   "source": [
    "# Random Forest"
   ]
  },
  {
   "cell_type": "code",
   "execution_count": null,
   "metadata": {},
   "outputs": [],
   "source": [
    "\n",
    "\n",
    "rf_clf = RandomForestClassifier(n_estimators=100, random_state=42)\n",
    "rf_clf.fit(X_train, y_train)\n",
    "\n",
    "y_pred = rf_clf.predict(X_test)\n",
    "\n",
    "# Accuracy\n",
    "print(\"Accuracy:\", accuracy_score(y_test, y_pred))\n",
    "\n",
    "# Detailed classification report\n",
    "print(classification_report(y_test, y_pred))"
   ]
  },
  {
   "cell_type": "code",
   "execution_count": null,
   "metadata": {},
   "outputs": [],
   "source": [
    "# Create a confusion matrix\n",
    "cm = confusion_matrix(y_test, y_pred)\n",
    "ticks = [\"Filip\",\"Sebastian\",\"Marcin\"]\n",
    "# Plot the confusion matrix\n",
    "sns.heatmap(cm, annot=True,fmt='d', cmap='YlGnBu',xticklabels=ticks, yticklabels=ticks )\n",
    "plt.ylabel('Prediction',fontsize=12)\n",
    "plt.xlabel('Actual',fontsize=12)\n",
    "plt.title('Confusion Matrix',fontsize=16)\n",
    "plt.show()"
   ]
  },
  {
   "cell_type": "markdown",
   "metadata": {},
   "source": [
    "# Multilayer Perceptron"
   ]
  },
  {
   "cell_type": "code",
   "execution_count": 81,
   "metadata": {},
   "outputs": [
    {
     "name": "stdout",
     "output_type": "stream",
     "text": [
      "MLP Accuracy: 0.7962962962962963\n",
      "MLP Classification Report:\n",
      "               precision    recall  f1-score   support\n",
      "\n",
      "         0.0       0.88      0.68      0.77        22\n",
      "         1.0       0.65      0.94      0.77        16\n",
      "         2.0       0.93      0.81      0.87        16\n",
      "\n",
      "    accuracy                           0.80        54\n",
      "   macro avg       0.82      0.81      0.80        54\n",
      "weighted avg       0.83      0.80      0.80        54\n",
      "\n"
     ]
    }
   ],
   "source": [
    "# Step 3: Train the Multilayer Perceptron Classifier\n",
    "mlp_clf = MLPClassifier(hidden_layer_sizes=(100, 100,100), activation='relu', solver='adam', \n",
    "                         max_iter=2000, random_state=42)\n",
    "mlp_clf.fit(X_train, y_train)\n",
    "\n",
    "# Step 4: Evaluate the MLP Classifier\n",
    "mlp_pred = mlp_clf.predict(X_test)\n",
    "print(\"MLP Accuracy:\", accuracy_score(y_test, mlp_pred))\n",
    "print(\"MLP Classification Report:\\n\", classification_report(y_test, mlp_pred))"
   ]
  },
  {
   "cell_type": "code",
   "execution_count": null,
   "metadata": {},
   "outputs": [],
   "source": [
    "# Create a confusion matrix\n",
    "cm = confusion_matrix(y_test, y_pred)\n",
    "ticks = [\"Filip\",\"Sebastian\",\"Marcin\"]\n",
    "# Plot the confusion matrix\n",
    "sns.heatmap(cm, annot=True,fmt='d', cmap='YlGnBu',xticklabels=ticks, yticklabels=ticks )\n",
    "plt.ylabel('Prediction',fontsize=12)\n",
    "plt.xlabel('Actual',fontsize=12)\n",
    "plt.title('Confusion Matrix',fontsize=16)\n",
    "plt.show()"
   ]
  },
  {
   "cell_type": "markdown",
   "metadata": {},
   "source": [
    "# Spectral Features\n",
    "### Spectral Centroid, Spectral Bandwidth, Spectral Contrast, Spectral Flatness"
   ]
  },
  {
   "cell_type": "code",
   "execution_count": 93,
   "metadata": {},
   "outputs": [
    {
     "data": {
      "text/plain": [
       "(90, 4)"
      ]
     },
     "execution_count": 93,
     "metadata": {},
     "output_type": "execute_result"
    }
   ],
   "source": [
    "spectral_features_no = 4\n",
    "\n",
    "spectral_features_filip = [i for i in range(no_of_words)]\n",
    "for i, word in enumerate(words_filip):\n",
    "    spectral_features_vector = np.zeros(4)\n",
    "    spectral_features_vector[0] = np.mean(librosa.feature.spectral_centroid(y=word, sr=sr),axis=1)[0]\n",
    "    spectral_features_vector[1] = np.mean(librosa.feature.spectral_bandwidth(y=word, sr=sr),axis=1)[0]\n",
    "    spectral_features_vector[2] = np.mean(librosa.feature.spectral_contrast(y=word, sr=sr),axis=1)[0]\n",
    "    spectral_features_vector[3] = np.mean(librosa.feature.spectral_flatness(y=word),axis=1)[0]\n",
    "    spectral_features_filip[i] = spectral_features_vector\n",
    "\n",
    "spectral_features_seb = [i for i in range(no_of_words)]\n",
    "for i, word in enumerate(words_seb):\n",
    "    spectral_features_vector = np.zeros(4)\n",
    "    spectral_features_vector[0] = np.mean(librosa.feature.spectral_centroid(y=word, sr=sr),axis=1)[0]\n",
    "    spectral_features_vector[1] = np.mean(librosa.feature.spectral_bandwidth(y=word, sr=sr),axis=1)[0]\n",
    "    spectral_features_vector[2] = np.mean(librosa.feature.spectral_contrast(y=word, sr=sr),axis=1)[0]\n",
    "    spectral_features_vector[3] = np.mean(librosa.feature.spectral_flatness(y=word),axis=1)[0]\n",
    "    spectral_features_seb[i] = spectral_features_vector\n",
    "\n",
    "\n",
    "spectral_features_marcin = [i for i in range(no_of_words)]\n",
    "for i, word in enumerate(words_marcin):\n",
    "    spectral_features_vector = np.zeros(4)\n",
    "    spectral_features_vector[0] = np.mean(librosa.feature.spectral_centroid(y=word, sr=sr),axis=1)[0]\n",
    "    spectral_features_vector[1] = np.mean(librosa.feature.spectral_bandwidth(y=word, sr=sr),axis=1)[0]\n",
    "    spectral_features_vector[2] = np.mean(librosa.feature.spectral_contrast(y=word, sr=sr),axis=1)[0]\n",
    "    spectral_features_vector[3] = np.mean(librosa.feature.spectral_flatness(y=word),axis=1)[0]\n",
    "    spectral_features_marcin[i] = spectral_features_vector\n",
    "\n",
    "\n",
    "feature_vector = np.concatenate((spectral_features_filip, spectral_features_seb,spectral_features_marcin))\n",
    "feature_vector.shape"
   ]
  },
  {
   "cell_type": "markdown",
   "metadata": {},
   "source": [
    "# SVM"
   ]
  },
  {
   "cell_type": "code",
   "execution_count": 106,
   "metadata": {},
   "outputs": [
    {
     "name": "stdout",
     "output_type": "stream",
     "text": [
      "Accuracy: 0.7111111111111111\n",
      "              precision    recall  f1-score   support\n",
      "\n",
      "         0.0       0.89      0.50      0.64        16\n",
      "         1.0       0.56      0.93      0.70        15\n",
      "         2.0       0.91      0.71      0.80        14\n",
      "\n",
      "    accuracy                           0.71        45\n",
      "   macro avg       0.79      0.72      0.71        45\n",
      "weighted avg       0.79      0.71      0.71        45\n",
      "\n"
     ]
    }
   ],
   "source": [
    "X_train, X_test, y_train, y_test = train_test_split(feature_vector, labels, test_size=0.5, random_state=42)\n",
    "# Normalize the features\n",
    "scaler = StandardScaler()\n",
    "X_train = scaler.fit_transform(X_train)\n",
    "X_test = scaler.transform(X_test)\n",
    "\n",
    "# Train the SVM\n",
    "svm = SVC(kernel='linear', C=1.0, random_state=42)\n",
    "svm.fit(X_train, y_train)\n",
    "\n",
    "y_pred = svm.predict(X_test)\n",
    "\n",
    "# Accuracy\n",
    "print(\"Accuracy:\", accuracy_score(y_test, y_pred))\n",
    "\n",
    "# Detailed classification report\n",
    "print(classification_report(y_test, y_pred))"
   ]
  },
  {
   "cell_type": "code",
   "execution_count": 107,
   "metadata": {},
   "outputs": [
    {
     "data": {
      "image/png": "[encoded data removed]",
      "text/plain": [
       "<Figure size 640x480 with 2 Axes>"
      ]
     },
     "metadata": {},
     "output_type": "display_data"
    }
   ],
   "source": [
    "# Create a confusion matrix\n",
    "cm = confusion_matrix(y_test, y_pred)\n",
    "ticks = [\"Filip\",\"Sebastian\",\"Marcin\"]\n",
    "# Plot the confusion matrix\n",
    "sns.heatmap(cm, annot=True,fmt='d', cmap='YlGnBu',xticklabels=ticks, yticklabels=ticks )\n",
    "plt.ylabel('Prediction',fontsize=12)\n",
    "plt.xlabel('Actual',fontsize=12)\n",
    "plt.title('Confusion Matrix',fontsize=16)\n",
    "plt.show()"
   ]
  },
  {
   "cell_type": "markdown",
   "metadata": {},
   "source": [
    "# Random Forest"
   ]
  },
  {
   "cell_type": "code",
   "execution_count": 108,
   "metadata": {},
   "outputs": [
    {
     "name": "stdout",
     "output_type": "stream",
     "text": [
      "Accuracy: 0.7777777777777778\n",
      "              precision    recall  f1-score   support\n",
      "\n",
      "         0.0       1.00      0.50      0.67        16\n",
      "         1.0       0.70      0.93      0.80        15\n",
      "         2.0       0.76      0.93      0.84        14\n",
      "\n",
      "    accuracy                           0.78        45\n",
      "   macro avg       0.82      0.79      0.77        45\n",
      "weighted avg       0.83      0.78      0.76        45\n",
      "\n"
     ]
    }
   ],
   "source": [
    "rf_clf = RandomForestClassifier(n_estimators=100, random_state=42)\n",
    "rf_clf.fit(X_train, y_train)\n",
    "\n",
    "y_pred = rf_clf.predict(X_test)\n",
    "\n",
    "# Accuracy\n",
    "print(\"Accuracy:\", accuracy_score(y_test, y_pred))\n",
    "\n",
    "# Detailed classification report\n",
    "print(classification_report(y_test, y_pred))"
   ]
  },
  {
   "cell_type": "code",
   "execution_count": 100,
   "metadata": {},
   "outputs": [
    {
     "data": {
      "image/png": "[encoded data removed]",
      "text/plain": [
       "<Figure size 640x480 with 2 Axes>"
      ]
     },
     "metadata": {},
     "output_type": "display_data"
    }
   ],
   "source": [
    "# Create a confusion matrix\n",
    "cm = confusion_matrix(y_test, y_pred)\n",
    "ticks = [\"Filip\",\"Sebastian\",\"Marcin\"]\n",
    "# Plot the confusion matrix\n",
    "sns.heatmap(cm, annot=True,fmt='d', cmap='YlGnBu',xticklabels=ticks, yticklabels=ticks )\n",
    "plt.ylabel('Prediction',fontsize=12)\n",
    "plt.xlabel('Actual',fontsize=12)\n",
    "plt.title('Confusion Matrix',fontsize=16)\n",
    "plt.show()"
   ]
  },
  {
   "cell_type": "markdown",
   "metadata": {},
   "source": [
    "# Multilayer Perceptron"
   ]
  },
  {
   "cell_type": "code",
   "execution_count": 109,
   "metadata": {},
   "outputs": [
    {
     "name": "stdout",
     "output_type": "stream",
     "text": [
      "MLP Accuracy: 0.7555555555555555\n",
      "MLP Classification Report:\n",
      "               precision    recall  f1-score   support\n",
      "\n",
      "         0.0       1.00      0.44      0.61        16\n",
      "         1.0       0.74      0.93      0.82        15\n",
      "         2.0       0.68      0.93      0.79        14\n",
      "\n",
      "    accuracy                           0.76        45\n",
      "   macro avg       0.81      0.77      0.74        45\n",
      "weighted avg       0.81      0.76      0.74        45\n",
      "\n"
     ]
    }
   ],
   "source": [
    "# Step 3: Train the Multilayer Perceptron Classifier\n",
    "mlp_clf = MLPClassifier(hidden_layer_sizes=(100,100,100,20), activation='relu', solver='adam', \n",
    "                         max_iter=3000, random_state=42)\n",
    "mlp_clf.fit(X_train, y_train)\n",
    "\n",
    "# Step 4: Evaluate the MLP Classifier\n",
    "mlp_pred = mlp_clf.predict(X_test)\n",
    "print(\"MLP Accuracy:\", accuracy_score(y_test, mlp_pred))\n",
    "print(\"MLP Classification Report:\\n\", classification_report(y_test, mlp_pred))"
   ]
  },
  {
   "cell_type": "code",
   "execution_count": 110,
   "metadata": {},
   "outputs": [
    {
     "data": {
      "image/png": "[encoded data removed]",
      "text/plain": [
       "<Figure size 640x480 with 2 Axes>"
      ]
     },
     "metadata": {},
     "output_type": "display_data"
    }
   ],
   "source": [
    "# Create a confusion matrix\n",
    "cm = confusion_matrix(y_test, y_pred)\n",
    "ticks = [\"Filip\",\"Sebastian\",\"Marcin\"]\n",
    "# Plot the confusion matrix\n",
    "sns.heatmap(cm, annot=True,fmt='d', cmap='YlGnBu',xticklabels=ticks, yticklabels=ticks )\n",
    "plt.ylabel('Prediction',fontsize=12)\n",
    "plt.xlabel('Actual',fontsize=12)\n",
    "plt.title('Confusion Matrix',fontsize=16)\n",
    "plt.show()"
   ]
  }
 ],
 "metadata": {
  "kernelspec": {
   "display_name": "Python 3",
   "language": "python",
   "name": "python3"
  },
  "language_info": {
   "codemirror_mode": {
    "name": "ipython",
    "version": 3
   },
   "file_extension": ".py",
   "mimetype": "text/x-python",
   "name": "python",
   "nbconvert_exporter": "python",
   "pygments_lexer": "ipython3",
   "version": "3.12.7"
  }
 },
 "nbformat": 4,
 "nbformat_minor": 2
}
