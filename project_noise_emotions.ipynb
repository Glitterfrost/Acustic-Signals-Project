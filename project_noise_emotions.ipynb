{
 "cells": [
  {
   "cell_type": "code",
   "execution_count": 1,
   "metadata": {},
   "outputs": [],
   "source": [
    "import numpy as np\n",
    "import matplotlib.pyplot as plt\n",
    "import librosa\n",
    "from sklearn.model_selection import train_test_split\n",
    "from sklearn.svm import SVC\n",
    "from sklearn.preprocessing import StandardScaler\n",
    "from sklearn.metrics import accuracy_score, classification_report\n",
    "from sklearn.metrics import confusion_matrix\n",
    "from sklearn.ensemble import RandomForestClassifier\n",
    "from sklearn.neural_network import MLPClassifier\n",
    "import seaborn as sns\n",
    "from sklearn.feature_selection import SelectKBest,f_classif"
   ]
  },
  {
   "cell_type": "code",
   "execution_count": 2,
   "metadata": {},
   "outputs": [],
   "source": [
    "import warnings\n",
    "warnings.simplefilter(\"ignore\")"
   ]
  },
  {
   "cell_type": "markdown",
   "metadata": {},
   "source": [
    "# LOAD DATA"
   ]
  },
  {
   "cell_type": "code",
   "execution_count": 3,
   "metadata": {},
   "outputs": [],
   "source": [
    "neutral = [\"N\"]*15\n",
    "happy = [\"H\"] *15\n",
    "anger = [\"A\"] *15\n",
    "L = neutral+happy+anger\n",
    "def load_noise_data(FILIP_PATH,noise_level,no_of_sentences,which):\n",
    "    data = [i for i in range(no_of_sentences)]\n",
    "    for i in range(1, no_of_sentences+1):\n",
    "        \n",
    "        file_name = \"sentence\"+str(i)+L[i-1]+\"_\"+which+\"_\"+noise_level+\".wav\"\n",
    "        y, sr = librosa.load(FILIP_PATH+file_name, sr=None)\n",
    "        data[i-1] = y\n",
    "    return data"
   ]
  },
  {
   "cell_type": "code",
   "execution_count": 4,
   "metadata": {},
   "outputs": [],
   "source": [
    "DATA_PATH = \"BazaNoise/\"\n",
    "FILIP_PATH = DATA_PATH + \"sentencesFilipNoise/\"\n",
    "SEB_PATH = DATA_PATH + \"sentencesSebastianNoise/\"\n",
    "MARCIN_PATH = DATA_PATH + \"sentencesMarcinNoise/\"\n",
    "PROF_PATH = DATA_PATH + \"sentencesProfessorNoise/\"\n",
    "no_of_sentences = 45\n",
    "Fs = 48000\n"
   ]
  },
  {
   "cell_type": "markdown",
   "metadata": {},
   "source": [
    "## Functions to get mfcc features"
   ]
  },
  {
   "cell_type": "code",
   "execution_count": 5,
   "metadata": {},
   "outputs": [],
   "source": [
    "def get_mfcc_mean_features(data,no_of_sentences, mfcc_features_no):\n",
    "    mfcc = [i for i in range(no_of_sentences)]\n",
    "    mfcc_delta = [i for i in range(no_of_sentences)]\n",
    "    mfcc_delta2 = [i for i in range(no_of_sentences)]\n",
    "\n",
    "    for i, word in enumerate(data):\n",
    "        mfcc[i] = librosa.feature.mfcc(y=word, sr=Fs, n_mfcc=mfcc_features_no)\n",
    "        mfcc_delta[i] = librosa.feature.delta(word)\n",
    "        mfcc_delta2[i] =  librosa.feature.delta(word, order=2)\n",
    "\n",
    "    mfcc_mean = np.zeros((no_of_sentences,mfcc_features_no))\n",
    "    for i in range(no_of_sentences):\n",
    "        mfcc_mean[i,0:mfcc_features_no] = np.mean(mfcc[i],axis=1)\n",
    "    \n",
    "    return mfcc_mean\n",
    "\n",
    "def get_mfcc_features(data,mfcc_features_no):\n",
    "    mfcc = [i for i in range(no_of_sentences)]\n",
    "    mfcc_delta = [i for i in range(no_of_sentences)]\n",
    "    mfcc_delta2 = [i for i in range(no_of_sentences)]\n",
    "\n",
    "    for i, word in enumerate(data):\n",
    "        mfcc[i] = librosa.feature.mfcc(y=word, sr=Fs, n_mfcc=mfcc_features_no)\n",
    "        mfcc_delta[i] = librosa.feature.delta(word)\n",
    "        mfcc_delta2[i] =  librosa.feature.delta(word, order=2)\n",
    "        \n",
    "    return mfcc"
   ]
  },
  {
   "cell_type": "markdown",
   "metadata": {},
   "source": [
    "# Functions to get spectal features"
   ]
  },
  {
   "cell_type": "code",
   "execution_count": 6,
   "metadata": {},
   "outputs": [],
   "source": [
    "def get_spectral_mean_features(data, no_of_sentences,spectral_features_no = 4):\n",
    "    spectral_features = [i for i in range(no_of_sentences)]\n",
    "    sr = 48000\n",
    "    for i, word in enumerate(data):\n",
    "        spectral_features_vector = np.zeros(4)\n",
    "        spectral_features_vector[0] = np.mean(librosa.feature.spectral_centroid(y=word, sr=sr),axis=1)[0]\n",
    "        spectral_features_vector[1] = np.mean(librosa.feature.spectral_bandwidth(y=word, sr=sr),axis=1)[0]\n",
    "        spectral_features_vector[2] = np.mean(librosa.feature.spectral_contrast(y=word, sr=sr),axis=1)[0]\n",
    "        spectral_features_vector[3] = np.mean(librosa.feature.spectral_flatness(y=word),axis=1)[0]\n",
    "        spectral_features[i] = spectral_features_vector\n",
    "    return spectral_features"
   ]
  },
  {
   "cell_type": "markdown",
   "metadata": {},
   "source": [
    "## Functions to get zero crossing"
   ]
  },
  {
   "cell_type": "code",
   "execution_count": 7,
   "metadata": {},
   "outputs": [],
   "source": [
    "def get_zero_crossing_features(data, no_of_sentences) :\n",
    "    zcr_mean = np.zeros((no_of_sentences, 1))\n",
    "    for i in range(no_of_sentences):\n",
    "        zcr_mean[i, 0] = np.mean(data[i])\n",
    "    return zcr_mean"
   ]
  },
  {
   "cell_type": "markdown",
   "metadata": {},
   "source": [
    "## Functions to get chroma features"
   ]
  },
  {
   "cell_type": "code",
   "execution_count": 8,
   "metadata": {},
   "outputs": [],
   "source": [
    "def get_mean_chroma_features(data, chroma_types):\n",
    "\n",
    "    chroma_stft = []\n",
    "    chroma_cqt = []\n",
    "    chroma_cens = []\n",
    "    chroma_vqt = []\n",
    "\n",
    "    sr = 48000\n",
    "\n",
    "    for audio in data:\n",
    "        word_stft = chroma_types[list(chroma_types.keys())[0]][\"func\"](y=audio, sr=sr, **chroma_types[list(chroma_types.keys())[0]][\"params\"])\n",
    "        word_cqt = chroma_types[list(chroma_types.keys())[1]][\"func\"](y=audio, sr=sr, **chroma_types[list(chroma_types.keys())[1]][\"params\"])\n",
    "        word_cens = chroma_types[list(chroma_types.keys())[2]][\"func\"](y=audio, sr=sr, **chroma_types[list(chroma_types.keys())[2]][\"params\"])\n",
    "        word_vqt = chroma_types[list(chroma_types.keys())[3]][\"func\"](y=audio, sr=sr, **chroma_types[list(chroma_types.keys())[3]][\"params\"])\n",
    "\n",
    "\n",
    "        chroma_stft.append(word_stft.mean(axis=1).flatten())\n",
    "        chroma_cqt.append(word_cqt.mean(axis=1).flatten())\n",
    "        chroma_cens.append(word_cens.mean(axis=1).flatten())\n",
    "        chroma_vqt.append(word_vqt.mean(axis=1).flatten())\n",
    "\n",
    "    return chroma_stft, chroma_cqt, chroma_cens, chroma_vqt\n",
    "\n",
    "chroma_types ={\n",
    "    \"stft\": {\n",
    "        \"func\": librosa.feature.chroma_stft,\n",
    "        \"params\": {},\n",
    "    },\n",
    "    \"cqt\": {\n",
    "        \"func\": librosa.feature.chroma_cqt,\n",
    "        \"params\": {},\n",
    "    },\n",
    "    \"cens\": {\n",
    "        \"func\": librosa.feature.chroma_cens,\n",
    "        \"params\": {},\n",
    "    },\n",
    "    \"vqt\": {\n",
    "        \"func\": librosa.feature.chroma_vqt,\n",
    "        \"params\": {\"intervals\": \"equal\"},\n",
    "    }\n",
    "}"
   ]
  },
  {
   "cell_type": "markdown",
   "metadata": {},
   "source": [
    "# Functions to get classifier results and show confusion matrix"
   ]
  },
  {
   "cell_type": "code",
   "execution_count": 9,
   "metadata": {},
   "outputs": [],
   "source": [
    "def get_clf_results(clf, X_train, X_test, y_train, y_test):\n",
    "    clf.fit(X_train, y_train)\n",
    "    y_pred = clf.predict(X_test)\n",
    "\n",
    "    return accuracy_score(y_test, y_pred), classification_report(y_test, y_pred), y_pred\n",
    "\n",
    "def show_conf_matirx(y_test, y_pred,clf,feature ):\n",
    "    cm = confusion_matrix(y_test, y_pred)\n",
    "    ticks = [\"Filip\",\"Sebastian\",\"Marcin\",\"Łazoryszczak\"]\n",
    "\n",
    "    sns.heatmap(cm, annot=True,fmt='d', cmap='YlGnBu',xticklabels=ticks, yticklabels=ticks )\n",
    "    plt.ylabel('Prediction',fontsize=12)\n",
    "    plt.xlabel('Actual',fontsize=12)\n",
    "    plt.title('Confusion Matrix - ' + feature +\" - \"+type(clf).__name__,fontsize=16)\n",
    "    plt.show()"
   ]
  },
  {
   "cell_type": "markdown",
   "metadata": {},
   "source": [
    "## Classifiers"
   ]
  },
  {
   "cell_type": "code",
   "execution_count": null,
   "metadata": {},
   "outputs": [],
   "source": []
  },
  {
   "cell_type": "markdown",
   "metadata": {},
   "source": [
    "# Getting full features"
   ]
  },
  {
   "cell_type": "code",
   "execution_count": 10,
   "metadata": {},
   "outputs": [],
   "source": [
    "def get_feature_vector_mfcc(words_filip,words_seb,words_marcin, words_prof, no_of_sentences, mfcc_features_no):\n",
    "    mfcc_filip_mean = get_mfcc_mean_features(words_filip,no_of_sentences,mfcc_features_no)\n",
    "    mfcc_seb_mean = get_mfcc_mean_features(words_seb,no_of_sentences,mfcc_features_no)\n",
    "    mfcc_marcin_mean = get_mfcc_mean_features(words_marcin,no_of_sentences,mfcc_features_no)\n",
    "    mfcc_prof_mean = get_mfcc_mean_features(words_prof,no_of_sentences,mfcc_features_no)\n",
    "\n",
    "    feature_vector_mfcc = np.concatenate((mfcc_filip_mean, mfcc_seb_mean,mfcc_marcin_mean,mfcc_prof_mean))\n",
    "\n",
    "    return feature_vector_mfcc\n",
    "\n",
    "def get_feature_vector_spectral(words_filip,words_seb,words_marcin, words_prof, no_of_sentences,spectral_features_no):\n",
    "    spectral_features_filip = get_spectral_mean_features(words_filip, no_of_sentences,spectral_features_no)\n",
    "    spectral_features_seb = get_spectral_mean_features(words_seb, no_of_sentences,spectral_features_no)\n",
    "    spectral_features_marcin = get_spectral_mean_features(words_marcin, no_of_sentences,spectral_features_no)\n",
    "    spectral_features_prof = get_spectral_mean_features(words_prof, no_of_sentences,spectral_features_no)\n",
    "\n",
    "    feature_vector_spectral = np.concatenate((spectral_features_filip, spectral_features_seb,spectral_features_marcin,spectral_features_prof))\n",
    "\n",
    "    return feature_vector_spectral\n",
    "\n",
    "def get_feature_vector_zeros(words_filip,words_seb,words_marcin, words_prof, no_of_sentences):\n",
    "    zcr_filip  = get_zero_crossing_features(words_filip, no_of_sentences)\n",
    "    zcr_seb    = get_zero_crossing_features(words_seb, no_of_sentences)\n",
    "    zcr_marcin = get_zero_crossing_features(words_marcin, no_of_sentences)\n",
    "    zcr_prof   = get_zero_crossing_features(words_prof, no_of_sentences)\n",
    "\n",
    "    feature_vector_zeros = np.concatenate((zcr_filip, zcr_seb,zcr_marcin,zcr_prof))\n",
    "\n",
    "    return feature_vector_zeros\n",
    "\n",
    "def get_feature_vector_chroma(words_filip,words_seb,words_marcin, words_prof,chroma_types):\n",
    "    chroma_filip_stft_mean, chroma_filip_cqt_mean, chroma_filip_cens_mean, chroma_filip_vqt_mean = get_mean_chroma_features(words_filip, chroma_types)\n",
    "    chroma_seb_stft_mean, chroma_seb_cqt_mean, chroma_seb_cens_mean, chroma_seb_vqt_mean = get_mean_chroma_features(words_seb, chroma_types)\n",
    "    chroma_marcin_stft_mean, chroma_marcin_cqt_mean, chroma_marcin_cens_mean, chroma_marcin_vqt_mean = get_mean_chroma_features(words_marcin, chroma_types)\n",
    "    chroma_prof_stft_mean, chroma_prof_cqt_mean, chroma_prof_cens_mean, chroma_prof_vqt_mean = get_mean_chroma_features(words_prof, chroma_types)\n",
    "\n",
    "    chroma_filip = np.concatenate((np.array(chroma_filip_stft_mean),np.array(chroma_filip_cqt_mean),np.array(chroma_filip_cens_mean),np.array(chroma_filip_vqt_mean)),axis=1)\n",
    "    chroma_seb = np.concatenate((np.array(chroma_seb_stft_mean),np.array(chroma_seb_cqt_mean),np.array(chroma_seb_cens_mean),np.array(chroma_seb_vqt_mean)),axis=1)\n",
    "    chroma_marcin = np.concatenate((np.array(chroma_marcin_stft_mean),np.array(chroma_marcin_cqt_mean),np.array(chroma_marcin_cens_mean),np.array(chroma_marcin_vqt_mean)),axis=1)\n",
    "    chroma_prof = np.concatenate((np.array(chroma_prof_stft_mean),np.array(chroma_prof_cqt_mean),np.array(chroma_prof_cens_mean),np.array(chroma_prof_vqt_mean)),axis=1)\n",
    "\n",
    "    feature_vector_chroma = np.concatenate((chroma_filip, chroma_seb,chroma_marcin,chroma_prof))\n",
    "\n",
    "    return feature_vector_chroma\n"
   ]
  },
  {
   "cell_type": "code",
   "execution_count": 11,
   "metadata": {},
   "outputs": [],
   "source": [
    "svm = SVC(kernel='rbf', C=1.0, random_state=42)\n",
    "rf_clf = RandomForestClassifier(n_estimators=100, random_state=42)\n",
    "mlp_clf = MLPClassifier(hidden_layer_sizes=(100,100,100,20), activation='relu', solver='adam', \n",
    "                         max_iter=3000, random_state=42)\n",
    "\n",
    "\n",
    "def get_results_per_feature(feature_vector,feature_name):\n",
    "    labels = L * 4\n",
    "    X_train, X_test, y_train, y_test = train_test_split(feature_vector, labels, test_size=0.5, random_state=42)\n",
    "\n",
    "    acc_score_svm, class_report_svm, y_pred_svm = get_clf_results(svm, X_train, X_test, y_train, y_test)\n",
    "    acc_score_rbf, class_report_rbf, y_pred_rbf= get_clf_results(rf_clf, X_train, X_test, y_train, y_test)\n",
    "    acc_score_mlp, class_report_mlp, y_pred_mlp = get_clf_results(mlp_clf, X_train, X_test, y_train, y_test)\n",
    "\n",
    "    print(feature_name)\n",
    "    print(\"SVM\", acc_score_svm)#, class_report_svm)\n",
    "    print(\"Random Forest\",acc_score_rbf)#, class_report_rbf)\n",
    "    print(\"MLP\", acc_score_mlp)#, class_report_mlp)\n",
    "    print()\n",
    "\n",
    "    # show_conf_matirx(y_test, y_pred_svm,svm,feature_name)\n",
    "    # show_conf_matirx(y_test, y_pred_rbf,rf_clf,feature_name)\n",
    "    # show_conf_matirx(y_test, y_pred_mlp,mlp_clf,feature_name)\n",
    "    "
   ]
  },
  {
   "cell_type": "markdown",
   "metadata": {},
   "source": [
    "# Noise - 10%"
   ]
  },
  {
   "cell_type": "code",
   "execution_count": 30,
   "metadata": {},
   "outputs": [],
   "source": [
    "noise_level = \"N10\"\n",
    "\n",
    "words_filip = load_noise_data(FILIP_PATH,noise_level,no_of_sentences, \"F\")\n",
    "words_seb = load_noise_data(SEB_PATH,noise_level,no_of_sentences, \"S\")\n",
    "words_marcin = load_noise_data(MARCIN_PATH,noise_level,no_of_sentences, \"M\")\n",
    "words_prof = load_noise_data(PROF_PATH,noise_level,no_of_sentences, \"L\")\n",
    "\n",
    "\n",
    "mfcc_features_no = 13\n",
    "spectral_features_no = 4\n",
    "\n",
    "feature_vector_mfcc = get_feature_vector_mfcc(words_filip,words_seb,words_marcin,words_prof,no_of_sentences, mfcc_features_no)\n",
    "feature_vector_spectral = get_feature_vector_spectral(words_filip,words_seb,words_marcin,words_prof,no_of_sentences, spectral_features_no)\n",
    "feature_vector_zeros = get_feature_vector_zeros(words_filip, words_seb,words_marcin,words_prof,no_of_sentences)\n",
    "feature_vector_chroma = get_feature_vector_chroma(words_filip, words_seb,words_marcin,words_prof,chroma_types)\n"
   ]
  },
  {
   "cell_type": "code",
   "execution_count": 31,
   "metadata": {},
   "outputs": [
    {
     "name": "stdout",
     "output_type": "stream",
     "text": [
      "(180, 13)\n",
      "mfcc\n",
      "SVM 0.3333333333333333\n",
      "Random Forest 0.7777777777777778\n",
      "MLP 0.36666666666666664\n",
      "\n",
      "Spectral\n",
      "SVM 0.3\n",
      "Random Forest 0.5222222222222223\n",
      "MLP 0.34444444444444444\n",
      "\n",
      "Zero Crossing\n",
      "SVM 0.34444444444444444\n",
      "Random Forest 0.3333333333333333\n",
      "MLP 0.3\n",
      "\n",
      "Chroma\n",
      "SVM 0.5\n",
      "Random Forest 0.6666666666666666\n",
      "MLP 0.6444444444444445\n",
      "\n"
     ]
    }
   ],
   "source": [
    "print(feature_vector_mfcc.shape)\n",
    "get_results_per_feature(feature_vector_mfcc,\"mfcc\")\n",
    "get_results_per_feature(feature_vector_spectral,\"Spectral\")\n",
    "get_results_per_feature(feature_vector_zeros,\"Zero Crossing\")\n",
    "get_results_per_feature(feature_vector_chroma,\"Chroma\")"
   ]
  },
  {
   "cell_type": "markdown",
   "metadata": {},
   "source": [
    "# Noise - 20%"
   ]
  },
  {
   "cell_type": "code",
   "execution_count": 14,
   "metadata": {},
   "outputs": [],
   "source": [
    "noise_level = \"N20\"\n",
    "\n",
    "words_filip = load_noise_data(FILIP_PATH,noise_level,no_of_sentences, \"F\")\n",
    "words_seb = load_noise_data(SEB_PATH,noise_level,no_of_sentences, \"S\")\n",
    "words_marcin = load_noise_data(MARCIN_PATH,noise_level,no_of_sentences, \"M\")\n",
    "words_prof = load_noise_data(PROF_PATH,noise_level,no_of_sentences, \"L\")\n",
    "\n",
    "\n",
    "mfcc_features_no = 13\n",
    "spectral_features_no = 4\n",
    "\n",
    "feature_vector_mfcc = get_feature_vector_mfcc(words_filip,words_seb,words_marcin,words_prof,no_of_sentences, mfcc_features_no)\n",
    "feature_vector_spectral = get_feature_vector_spectral(words_filip,words_seb,words_marcin,words_prof,no_of_sentences, spectral_features_no)\n",
    "feature_vector_zeros = get_feature_vector_zeros(words_filip, words_seb,words_marcin,words_prof,no_of_sentences)\n",
    "feature_vector_chroma = get_feature_vector_chroma(words_filip, words_seb,words_marcin,words_prof,chroma_types)"
   ]
  },
  {
   "cell_type": "code",
   "execution_count": 15,
   "metadata": {},
   "outputs": [
    {
     "name": "stdout",
     "output_type": "stream",
     "text": [
      "mfcc\n",
      "SVM 0.3\n",
      "Random Forest 0.7444444444444445\n",
      "MLP 0.7333333333333333\n",
      "\n",
      "Spectral\n",
      "SVM 0.32222222222222224\n",
      "Random Forest 0.5333333333333333\n",
      "MLP 0.5\n",
      "\n",
      "Zero Crossing\n",
      "SVM 0.3111111111111111\n",
      "Random Forest 0.28888888888888886\n",
      "MLP 0.3\n",
      "\n",
      "Chroma\n",
      "SVM 0.4888888888888889\n",
      "Random Forest 0.6222222222222222\n",
      "MLP 0.6666666666666666\n",
      "\n"
     ]
    }
   ],
   "source": [
    "get_results_per_feature(feature_vector_mfcc,\"mfcc\")\n",
    "get_results_per_feature(feature_vector_spectral,\"Spectral\")\n",
    "get_results_per_feature(feature_vector_zeros,\"Zero Crossing\")\n",
    "get_results_per_feature(feature_vector_chroma,\"Chroma\")"
   ]
  },
  {
   "cell_type": "markdown",
   "metadata": {},
   "source": [
    "# Noise - 30 %"
   ]
  },
  {
   "cell_type": "code",
   "execution_count": 16,
   "metadata": {},
   "outputs": [],
   "source": [
    "noise_level = \"N30\"\n",
    "\n",
    "words_filip = load_noise_data(FILIP_PATH,noise_level,no_of_sentences, \"F\")\n",
    "words_seb = load_noise_data(SEB_PATH,noise_level,no_of_sentences, \"S\")\n",
    "words_marcin = load_noise_data(MARCIN_PATH,noise_level,no_of_sentences, \"M\")\n",
    "words_prof = load_noise_data(PROF_PATH,noise_level,no_of_sentences, \"L\")\n",
    "\n",
    "\n",
    "mfcc_features_no = 13\n",
    "spectral_features_no = 4\n",
    "\n",
    "feature_vector_mfcc = get_feature_vector_mfcc(words_filip,words_seb,words_marcin,words_prof,no_of_sentences, mfcc_features_no)\n",
    "feature_vector_spectral = get_feature_vector_spectral(words_filip,words_seb,words_marcin,words_prof,no_of_sentences, spectral_features_no)\n",
    "feature_vector_zeros = get_feature_vector_zeros(words_filip, words_seb,words_marcin,words_prof,no_of_sentences)\n",
    "feature_vector_chroma = get_feature_vector_chroma(words_filip, words_seb,words_marcin,words_prof,chroma_types)"
   ]
  },
  {
   "cell_type": "code",
   "execution_count": 17,
   "metadata": {},
   "outputs": [
    {
     "name": "stdout",
     "output_type": "stream",
     "text": [
      "mfcc\n",
      "SVM 0.3\n",
      "Random Forest 0.7\n",
      "MLP 0.6444444444444445\n",
      "\n",
      "Spectral\n",
      "SVM 0.3111111111111111\n",
      "Random Forest 0.4888888888888889\n",
      "MLP 0.5555555555555556\n",
      "\n",
      "Zero Crossing\n",
      "SVM 0.36666666666666664\n",
      "Random Forest 0.32222222222222224\n",
      "MLP 0.3\n",
      "\n",
      "Chroma\n",
      "SVM 0.5333333333333333\n",
      "Random Forest 0.6888888888888889\n",
      "MLP 0.6888888888888889\n",
      "\n"
     ]
    }
   ],
   "source": [
    "get_results_per_feature(feature_vector_mfcc,\"mfcc\")\n",
    "get_results_per_feature(feature_vector_spectral,\"Spectral\")\n",
    "get_results_per_feature(feature_vector_zeros,\"Zero Crossing\")\n",
    "get_results_per_feature(feature_vector_chroma,\"Chroma\")"
   ]
  },
  {
   "cell_type": "markdown",
   "metadata": {},
   "source": [
    "# Noise - 40%"
   ]
  },
  {
   "cell_type": "code",
   "execution_count": 18,
   "metadata": {},
   "outputs": [],
   "source": [
    "noise_level = \"N40\"\n",
    "\n",
    "words_filip = load_noise_data(FILIP_PATH,noise_level,no_of_sentences, \"F\")\n",
    "words_seb = load_noise_data(SEB_PATH,noise_level,no_of_sentences, \"S\")\n",
    "words_marcin = load_noise_data(MARCIN_PATH,noise_level,no_of_sentences, \"M\")\n",
    "words_prof = load_noise_data(PROF_PATH,noise_level,no_of_sentences, \"L\")\n",
    "\n",
    "\n",
    "mfcc_features_no = 13\n",
    "spectral_features_no = 4\n",
    "\n",
    "feature_vector_mfcc = get_feature_vector_mfcc(words_filip,words_seb,words_marcin,words_prof,no_of_sentences, mfcc_features_no)\n",
    "feature_vector_spectral = get_feature_vector_spectral(words_filip,words_seb,words_marcin,words_prof,no_of_sentences, spectral_features_no)\n",
    "feature_vector_zeros = get_feature_vector_zeros(words_filip, words_seb,words_marcin,words_prof,no_of_sentences)\n",
    "feature_vector_chroma = get_feature_vector_chroma(words_filip, words_seb,words_marcin,words_prof,chroma_types)"
   ]
  },
  {
   "cell_type": "code",
   "execution_count": 19,
   "metadata": {},
   "outputs": [
    {
     "name": "stdout",
     "output_type": "stream",
     "text": [
      "mfcc\n",
      "SVM 0.3\n",
      "Random Forest 0.6333333333333333\n",
      "MLP 0.7333333333333333\n",
      "\n",
      "Spectral\n",
      "SVM 0.3\n",
      "Random Forest 0.5222222222222223\n",
      "MLP 0.4666666666666667\n",
      "\n",
      "Zero Crossing\n",
      "SVM 0.36666666666666664\n",
      "Random Forest 0.37777777777777777\n",
      "MLP 0.3\n",
      "\n",
      "Chroma\n",
      "SVM 0.5666666666666667\n",
      "Random Forest 0.7333333333333333\n",
      "MLP 0.6555555555555556\n",
      "\n"
     ]
    }
   ],
   "source": [
    "get_results_per_feature(feature_vector_mfcc,\"mfcc\")\n",
    "get_results_per_feature(feature_vector_spectral,\"Spectral\")\n",
    "get_results_per_feature(feature_vector_zeros,\"Zero Crossing\")\n",
    "get_results_per_feature(feature_vector_chroma,\"Chroma\")"
   ]
  },
  {
   "cell_type": "markdown",
   "metadata": {},
   "source": [
    "# Noise - 50%"
   ]
  },
  {
   "cell_type": "code",
   "execution_count": 20,
   "metadata": {},
   "outputs": [],
   "source": [
    "noise_level = \"N50\"\n",
    "\n",
    "words_filip = load_noise_data(FILIP_PATH,noise_level,no_of_sentences, \"F\")\n",
    "words_seb = load_noise_data(SEB_PATH,noise_level,no_of_sentences, \"S\")\n",
    "words_marcin = load_noise_data(MARCIN_PATH,noise_level,no_of_sentences, \"M\")\n",
    "words_prof = load_noise_data(PROF_PATH,noise_level,no_of_sentences, \"L\")\n",
    "\n",
    "\n",
    "mfcc_features_no = 13\n",
    "spectral_features_no = 4\n",
    "\n",
    "feature_vector_mfcc = get_feature_vector_mfcc(words_filip,words_seb,words_marcin,words_prof,no_of_sentences, mfcc_features_no)\n",
    "feature_vector_spectral = get_feature_vector_spectral(words_filip,words_seb,words_marcin,words_prof,no_of_sentences, spectral_features_no)\n",
    "feature_vector_zeros = get_feature_vector_zeros(words_filip, words_seb,words_marcin,words_prof,no_of_sentences)\n",
    "feature_vector_chroma = get_feature_vector_chroma(words_filip, words_seb,words_marcin,words_prof,chroma_types)"
   ]
  },
  {
   "cell_type": "code",
   "execution_count": 21,
   "metadata": {},
   "outputs": [
    {
     "name": "stdout",
     "output_type": "stream",
     "text": [
      "mfcc\n",
      "SVM 0.3\n",
      "Random Forest 0.6444444444444445\n",
      "MLP 0.7\n",
      "\n",
      "Spectral\n",
      "SVM 0.3\n",
      "Random Forest 0.4666666666666667\n",
      "MLP 0.3\n",
      "\n",
      "Zero Crossing\n",
      "SVM 0.4\n",
      "Random Forest 0.34444444444444444\n",
      "MLP 0.3\n",
      "\n",
      "Chroma\n",
      "SVM 0.5777777777777777\n",
      "Random Forest 0.7444444444444445\n",
      "MLP 0.6777777777777778\n",
      "\n"
     ]
    }
   ],
   "source": [
    "get_results_per_feature(feature_vector_mfcc,\"mfcc\")\n",
    "get_results_per_feature(feature_vector_spectral,\"Spectral\")\n",
    "get_results_per_feature(feature_vector_zeros,\"Zero Crossing\")\n",
    "get_results_per_feature(feature_vector_chroma,\"Chroma\")"
   ]
  },
  {
   "cell_type": "markdown",
   "metadata": {},
   "source": [
    "# Noise - 60%"
   ]
  },
  {
   "cell_type": "code",
   "execution_count": 22,
   "metadata": {},
   "outputs": [],
   "source": [
    "noise_level = \"N60\"\n",
    "\n",
    "words_filip = load_noise_data(FILIP_PATH,noise_level,no_of_sentences, \"F\")\n",
    "words_seb = load_noise_data(SEB_PATH,noise_level,no_of_sentences, \"S\")\n",
    "words_marcin = load_noise_data(MARCIN_PATH,noise_level,no_of_sentences, \"M\")\n",
    "words_prof = load_noise_data(PROF_PATH,noise_level,no_of_sentences, \"L\")\n",
    "\n",
    "\n",
    "mfcc_features_no = 13\n",
    "spectral_features_no = 4\n",
    "\n",
    "feature_vector_mfcc = get_feature_vector_mfcc(words_filip,words_seb,words_marcin,words_prof,no_of_sentences, mfcc_features_no)\n",
    "feature_vector_spectral = get_feature_vector_spectral(words_filip,words_seb,words_marcin,words_prof,no_of_sentences, spectral_features_no)\n",
    "feature_vector_zeros = get_feature_vector_zeros(words_filip, words_seb,words_marcin,words_prof,no_of_sentences)\n",
    "feature_vector_chroma = get_feature_vector_chroma(words_filip, words_seb,words_marcin,words_prof,chroma_types)"
   ]
  },
  {
   "cell_type": "code",
   "execution_count": 23,
   "metadata": {},
   "outputs": [
    {
     "name": "stdout",
     "output_type": "stream",
     "text": [
      "mfcc\n",
      "SVM 0.3\n",
      "Random Forest 0.6777777777777778\n",
      "MLP 0.6111111111111112\n",
      "\n",
      "Spectral\n",
      "SVM 0.3\n",
      "Random Forest 0.5\n",
      "MLP 0.5\n",
      "\n",
      "Zero Crossing\n",
      "SVM 0.35555555555555557\n",
      "Random Forest 0.35555555555555557\n",
      "MLP 0.3\n",
      "\n",
      "Chroma\n",
      "SVM 0.4111111111111111\n",
      "Random Forest 0.7\n",
      "MLP 0.6222222222222222\n",
      "\n"
     ]
    }
   ],
   "source": [
    "get_results_per_feature(feature_vector_mfcc,\"mfcc\")\n",
    "get_results_per_feature(feature_vector_spectral,\"Spectral\")\n",
    "get_results_per_feature(feature_vector_zeros,\"Zero Crossing\")\n",
    "get_results_per_feature(feature_vector_chroma,\"Chroma\")"
   ]
  },
  {
   "cell_type": "markdown",
   "metadata": {},
   "source": [
    "# Noise - 70%"
   ]
  },
  {
   "cell_type": "code",
   "execution_count": 24,
   "metadata": {},
   "outputs": [],
   "source": [
    "noise_level = \"N70\"\n",
    "\n",
    "words_filip = load_noise_data(FILIP_PATH,noise_level,no_of_sentences, \"F\")\n",
    "words_seb = load_noise_data(SEB_PATH,noise_level,no_of_sentences, \"S\")\n",
    "words_marcin = load_noise_data(MARCIN_PATH,noise_level,no_of_sentences, \"M\")\n",
    "words_prof = load_noise_data(PROF_PATH,noise_level,no_of_sentences, \"L\")\n",
    "\n",
    "\n",
    "mfcc_features_no = 13\n",
    "spectral_features_no = 4\n",
    "\n",
    "feature_vector_mfcc = get_feature_vector_mfcc(words_filip,words_seb,words_marcin,words_prof,no_of_sentences, mfcc_features_no)\n",
    "feature_vector_spectral = get_feature_vector_spectral(words_filip,words_seb,words_marcin,words_prof,no_of_sentences, spectral_features_no)\n",
    "feature_vector_zeros = get_feature_vector_zeros(words_filip, words_seb,words_marcin,words_prof,no_of_sentences)\n",
    "feature_vector_chroma = get_feature_vector_chroma(words_filip, words_seb,words_marcin,words_prof,chroma_types)"
   ]
  },
  {
   "cell_type": "code",
   "execution_count": 25,
   "metadata": {},
   "outputs": [
    {
     "name": "stdout",
     "output_type": "stream",
     "text": [
      "mfcc\n",
      "SVM 0.3\n",
      "Random Forest 0.7333333333333333\n",
      "MLP 0.6666666666666666\n",
      "\n",
      "Spectral\n",
      "SVM 0.3\n",
      "Random Forest 0.5111111111111111\n",
      "MLP 0.4444444444444444\n",
      "\n",
      "Zero Crossing\n",
      "SVM 0.32222222222222224\n",
      "Random Forest 0.28888888888888886\n",
      "MLP 0.3\n",
      "\n",
      "Chroma\n",
      "SVM 0.32222222222222224\n",
      "Random Forest 0.6666666666666666\n",
      "MLP 0.5333333333333333\n",
      "\n"
     ]
    }
   ],
   "source": [
    "get_results_per_feature(feature_vector_mfcc,\"mfcc\")\n",
    "get_results_per_feature(feature_vector_spectral,\"Spectral\")\n",
    "get_results_per_feature(feature_vector_zeros,\"Zero Crossing\")\n",
    "get_results_per_feature(feature_vector_chroma,\"Chroma\")"
   ]
  },
  {
   "cell_type": "markdown",
   "metadata": {},
   "source": [
    "# Nosie - 80 %"
   ]
  },
  {
   "cell_type": "code",
   "execution_count": 26,
   "metadata": {},
   "outputs": [],
   "source": [
    "noise_level = \"N80\"\n",
    "\n",
    "words_filip = load_noise_data(FILIP_PATH,noise_level,no_of_sentences, \"F\")\n",
    "words_seb = load_noise_data(SEB_PATH,noise_level,no_of_sentences, \"S\")\n",
    "words_marcin = load_noise_data(MARCIN_PATH,noise_level,no_of_sentences, \"M\")\n",
    "words_prof = load_noise_data(PROF_PATH,noise_level,no_of_sentences, \"L\")\n",
    "\n",
    "\n",
    "mfcc_features_no = 13\n",
    "spectral_features_no = 4\n",
    "\n",
    "feature_vector_mfcc = get_feature_vector_mfcc(words_filip,words_seb,words_marcin,words_prof,no_of_sentences, mfcc_features_no)\n",
    "feature_vector_spectral = get_feature_vector_spectral(words_filip,words_seb,words_marcin,words_prof,no_of_sentences, spectral_features_no)\n",
    "feature_vector_zeros = get_feature_vector_zeros(words_filip, words_seb,words_marcin,words_prof,no_of_sentences)\n",
    "feature_vector_chroma = get_feature_vector_chroma(words_filip, words_seb,words_marcin,words_prof,chroma_types)"
   ]
  },
  {
   "cell_type": "code",
   "execution_count": 27,
   "metadata": {},
   "outputs": [
    {
     "name": "stdout",
     "output_type": "stream",
     "text": [
      "mfcc\n",
      "SVM 0.3\n",
      "Random Forest 0.7111111111111111\n",
      "MLP 0.6222222222222222\n",
      "\n",
      "Spectral\n",
      "SVM 0.3\n",
      "Random Forest 0.5333333333333333\n",
      "MLP 0.36666666666666664\n",
      "\n",
      "Zero Crossing\n",
      "SVM 0.3333333333333333\n",
      "Random Forest 0.36666666666666664\n",
      "MLP 0.3\n",
      "\n",
      "Chroma\n",
      "SVM 0.32222222222222224\n",
      "Random Forest 0.5222222222222223\n",
      "MLP 0.5\n",
      "\n"
     ]
    }
   ],
   "source": [
    "get_results_per_feature(feature_vector_mfcc,\"mfcc\")\n",
    "get_results_per_feature(feature_vector_spectral,\"Spectral\")\n",
    "get_results_per_feature(feature_vector_zeros,\"Zero Crossing\")\n",
    "get_results_per_feature(feature_vector_chroma,\"Chroma\")"
   ]
  },
  {
   "cell_type": "markdown",
   "metadata": {},
   "source": [
    "# Noise - 90 %"
   ]
  },
  {
   "cell_type": "code",
   "execution_count": 28,
   "metadata": {},
   "outputs": [],
   "source": [
    "noise_level = \"N90\"\n",
    "\n",
    "words_filip = load_noise_data(FILIP_PATH,noise_level,no_of_sentences, \"F\")\n",
    "words_seb = load_noise_data(SEB_PATH,noise_level,no_of_sentences, \"S\")\n",
    "words_marcin = load_noise_data(MARCIN_PATH,noise_level,no_of_sentences, \"M\")\n",
    "words_prof = load_noise_data(PROF_PATH,noise_level,no_of_sentences, \"L\")\n",
    "\n",
    "\n",
    "mfcc_features_no = 13\n",
    "spectral_features_no = 4\n",
    "\n",
    "feature_vector_mfcc = get_feature_vector_mfcc(words_filip,words_seb,words_marcin,words_prof,no_of_sentences, mfcc_features_no)\n",
    "feature_vector_spectral = get_feature_vector_spectral(words_filip,words_seb,words_marcin,words_prof,no_of_sentences, spectral_features_no)\n",
    "feature_vector_zeros = get_feature_vector_zeros(words_filip, words_seb,words_marcin,words_prof,no_of_sentences)\n",
    "feature_vector_chroma = get_feature_vector_chroma(words_filip, words_seb,words_marcin,words_prof,chroma_types)"
   ]
  },
  {
   "cell_type": "code",
   "execution_count": 29,
   "metadata": {},
   "outputs": [
    {
     "name": "stdout",
     "output_type": "stream",
     "text": [
      "mfcc\n",
      "SVM 0.3\n",
      "Random Forest 0.6222222222222222\n",
      "MLP 0.5444444444444444\n",
      "\n",
      "Spectral\n",
      "SVM 0.3\n",
      "Random Forest 0.3888888888888889\n",
      "MLP 0.34444444444444444\n",
      "\n",
      "Zero Crossing\n",
      "SVM 0.35555555555555557\n",
      "Random Forest 0.4\n",
      "MLP 0.3\n",
      "\n",
      "Chroma\n",
      "SVM 0.3111111111111111\n",
      "Random Forest 0.4777777777777778\n",
      "MLP 0.36666666666666664\n",
      "\n"
     ]
    }
   ],
   "source": [
    "get_results_per_feature(feature_vector_mfcc,\"mfcc\")\n",
    "get_results_per_feature(feature_vector_spectral,\"Spectral\")\n",
    "get_results_per_feature(feature_vector_zeros,\"Zero Crossing\")\n",
    "get_results_per_feature(feature_vector_chroma,\"Chroma\")"
   ]
  }
 ],
 "metadata": {
  "kernelspec": {
   "display_name": "Python 3",
   "language": "python",
   "name": "python3"
  },
  "language_info": {
   "codemirror_mode": {
    "name": "ipython",
    "version": 3
   },
   "file_extension": ".py",
   "mimetype": "text/x-python",
   "name": "python",
   "nbconvert_exporter": "python",
   "pygments_lexer": "ipython3",
   "version": "3.12.7"
  }
 },
 "nbformat": 4,
 "nbformat_minor": 2
}
