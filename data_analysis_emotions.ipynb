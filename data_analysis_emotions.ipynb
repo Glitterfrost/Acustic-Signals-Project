{
 "cells": [
  {
   "cell_type": "code",
   "execution_count": 9,
   "metadata": {},
   "outputs": [],
   "source": [
    "import numpy as np\n",
    "import matplotlib.pyplot as plt\n",
    "import librosa\n",
    "from sklearn.model_selection import train_test_split\n",
    "from sklearn.svm import SVC\n",
    "from sklearn.preprocessing import StandardScaler\n",
    "from sklearn.metrics import accuracy_score, classification_report\n",
    "from sklearn.metrics import confusion_matrix\n",
    "from sklearn.ensemble import RandomForestClassifier\n",
    "from sklearn.neural_network import MLPClassifier\n",
    "import seaborn as sns\n",
    "from sklearn.feature_selection import SelectKBest,f_classif\n",
    "import matplotlib.pyplot as plt"
   ]
  },
  {
   "cell_type": "code",
   "execution_count": 10,
   "metadata": {},
   "outputs": [],
   "source": [
    "labels = [\"ACC\",\"PREC\",\"REC\",\"F1\"]\n",
    "def  create_bar_plot(data, title):\n",
    "    plt.bar(labels, data)\n",
    "    plt.title(title)\n",
    "    plt.xlabel('metric')\n",
    "    plt.ylabel('values')\n",
    "    plt.show()"
   ]
  },
  {
   "cell_type": "markdown",
   "metadata": {},
   "source": [
    "# BAR PLOTY dla każdego klasyfikatora"
   ]
  },
  {
   "cell_type": "markdown",
   "metadata": {},
   "source": [
    "## mfcc"
   ]
  },
  {
   "cell_type": "markdown",
   "metadata": {},
   "source": []
  },
  {
   "cell_type": "code",
   "execution_count": null,
   "metadata": {},
   "outputs": [],
   "source": [
    "mfcc_svm = [0.713, 0.71,0.71,0.71]\n",
    "mfcc_rm = [0.704,0.70,0.70,0.70]\n",
    "mfcc_mlp = [0.852,0.86,0.85,0.85]\n",
    "\n",
    "create_bar_plot(mfcc_svm, \"MFCC-SVM\")\n",
    "create_bar_plot(mfcc_rm, \"MFCC-Random Forest\")\n",
    "create_bar_plot(mfcc_mlp, \"MFCC-MLP\")"
   ]
  },
  {
   "cell_type": "markdown",
   "metadata": {},
   "source": [
    "## spectral"
   ]
  },
  {
   "cell_type": "code",
   "execution_count": null,
   "metadata": {},
   "outputs": [],
   "source": [
    "spec_svm = [ 0.456,0.45, 0.47, 0.42]\n",
    "spec_rm = [0.478, 0.48, 0.49,0.48]\n",
    "spec_mlp = [0.51, 0.55, 0.52,0.52]\n",
    "create_bar_plot(spec_svm, \"Spectral-SVM\")\n",
    "create_bar_plot(spec_rm,  \"Spectral-Random Forest\")\n",
    "create_bar_plot(spec_mlp, \"Spectral-MLP\")"
   ]
  },
  {
   "cell_type": "markdown",
   "metadata": {},
   "source": [
    "## zero crossing"
   ]
  },
  {
   "cell_type": "code",
   "execution_count": null,
   "metadata": {},
   "outputs": [],
   "source": [
    "zcr_svm = [0.366,0.57,0.38,0.29]\n",
    "zcr_rm = [0.33, 0.35, 0.33,0.33]\n",
    "zcr_mlp = [ 0.55, 0.53, 0.54, 0.52]\n",
    "create_bar_plot(zcr_svm, \"Zero Crossing-SVM\")\n",
    "create_bar_plot(zcr_rm,  \"Zero Crossing-Random Forest\")\n",
    "create_bar_plot(zcr_mlp, \"Zero Crossing-MLP\")"
   ]
  },
  {
   "cell_type": "markdown",
   "metadata": {},
   "source": [
    "## chroma"
   ]
  },
  {
   "cell_type": "code",
   "execution_count": null,
   "metadata": {},
   "outputs": [],
   "source": [
    "chroma_svm = [0.488,  0.49,0.50,0.48 ]\n",
    "chroma_rm = [0.588,  0.60,0.60,0.58]\n",
    "chroma_mlp = [0.61, 0.62,0.62,0.62]\n",
    "create_bar_plot(chroma_svm, \"Chroma-SVM\")\n",
    "create_bar_plot(chroma_rm,  \"Chroma-Random Forest\")\n",
    "create_bar_plot(chroma_mlp, \"Chroma-MLP\")"
   ]
  },
  {
   "cell_type": "markdown",
   "metadata": {},
   "source": [
    "# SZUM"
   ]
  },
  {
   "cell_type": "code",
   "execution_count": 15,
   "metadata": {},
   "outputs": [],
   "source": [
    "labels = [\"10%\",\"20%\",\"30%\",\"40%\",\"50%\", \"60%\", \"70%\", \"80%\", \"90%\"]\n",
    "def  create_bar_plot(data, title):\n",
    "    plt.bar(labels, data)\n",
    "    plt.title(title)\n",
    "    plt.xlabel('NOISE LEVEL')\n",
    "    plt.ylabel('ACCURACY')\n",
    "    plt.show()"
   ]
  },
  {
   "cell_type": "markdown",
   "metadata": {},
   "source": [
    "## MFCC"
   ]
  },
  {
   "cell_type": "code",
   "execution_count": null,
   "metadata": {},
   "outputs": [],
   "source": [
    "SVM    = [0.333, 0.3,  0.3, 0.3, 0.3, 0.3, 0.3, 0.3, 0.3]\n",
    "RANDOM_FOREST  = [ 0.777, 0.744, 0.7, 0.633, 0.644, 0.677, 0.733, 0.711, 0.622]\n",
    "MLP   = [0.366, 0.73, 0.644, 0.733, 0.7, 0.611, 0.666, 0.622, 0.544]\n",
    "create_bar_plot(SVM, \"MFCC-SVM\")\n",
    "create_bar_plot(RANDOM_FOREST, \"MFCC-Random Forest\")\n",
    "create_bar_plot(MLP, \"MFCC-MLP\")"
   ]
  },
  {
   "cell_type": "markdown",
   "metadata": {},
   "source": [
    "## SPECTRAL"
   ]
  },
  {
   "cell_type": "code",
   "execution_count": null,
   "metadata": {},
   "outputs": [],
   "source": [
    "SVM  = [0.3, 0.322, 0.311, 0.3, 0.3, 0.3, 0.3, 0.3, 0.3]\n",
    "RANDOM_FOREST   = [0.522, 0.533, 0.488, 0.522, 0.466, 0.5, 0.511, 0.533, 0.388]\n",
    "MLP    = [0.344, 0.5, 0.555, 0.466, 0.3,  0.5, 0.444, 0.366, 0.344]\n",
    "create_bar_plot(SVM, \"Spectral-SVM\")\n",
    "create_bar_plot(RANDOM_FOREST,  \"Spectral-Random Forest\")\n",
    "create_bar_plot(MLP, \"Spectral-MLP\")"
   ]
  },
  {
   "cell_type": "markdown",
   "metadata": {},
   "source": [
    "## ZERO CROSSING"
   ]
  },
  {
   "cell_type": "code",
   "execution_count": null,
   "metadata": {},
   "outputs": [],
   "source": [
    "\n",
    "SVM  = [0.344, 0.311, 0.366, 0.366, 0.4, 0.355, 0.322, 0.333, 0.355]\n",
    "RANDOM_FOREST   = [0.333, 0.288, 0.322, 0.377, 0.344,  0.355,  0.288, 0.3666, 0.4]\n",
    "MLP   = [0.3, 0.3, 0.3, 0.3, 0.3, 0.3, 0.3, 0.3, 0.3]\n",
    "create_bar_plot(SVM, \"Zero Crossing-SVM\")\n",
    "create_bar_plot(RANDOM_FOREST,  \"Zero Crossing-Random Forest\")\n",
    "create_bar_plot(MLP, \"Zero Crossing-MLP\")"
   ]
  },
  {
   "cell_type": "markdown",
   "metadata": {},
   "source": [
    "## CHROMA"
   ]
  },
  {
   "cell_type": "code",
   "execution_count": null,
   "metadata": {},
   "outputs": [],
   "source": [
    "SVM   = [0.5, 0.488, 0.533, 0.566, 0.577, 0.411, 0.322, 0.322, 0.311]\n",
    "RANDOM_FOREST  = [0.666, 0.622, 0.688, 0.733, 0.744, 0.7, 0.666, 0.522, 0.477]\n",
    "MLP = [0.644, 0.666, 0.688, 0.655, 0.677, 0.622, 0.533, 0.5, 0.366]\n",
    "create_bar_plot(SVM, \"Chroma-SVM\")\n",
    "create_bar_plot(RANDOM_FOREST,  \"Chroma-Random Forest\")\n",
    "create_bar_plot(MLP, \"Chroma-MLP\")"
   ]
  }
 ],
 "metadata": {
  "kernelspec": {
   "display_name": "Python 3",
   "language": "python",
   "name": "python3"
  },
  "language_info": {
   "codemirror_mode": {
    "name": "ipython",
    "version": 3
   },
   "file_extension": ".py",
   "mimetype": "text/x-python",
   "name": "python",
   "nbconvert_exporter": "python",
   "pygments_lexer": "ipython3",
   "version": "3.12.7"
  }
 },
 "nbformat": 4,
 "nbformat_minor": 2
}
